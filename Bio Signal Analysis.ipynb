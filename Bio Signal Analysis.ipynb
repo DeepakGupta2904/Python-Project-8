{
 "cells": [
  {
   "cell_type": "code",
   "execution_count": null,
   "id": "c9803d6b",
   "metadata": {},
   "outputs": [],
   "source": [
    "##### Importing the Libraries:-\n",
    "import numpy as np\n",
    "import matplotlib.pyplot as pyplt\n",
    "import pandas as pd\n",
    "import seaborn as sns"
   ]
  },
  {
   "cell_type": "code",
   "execution_count": null,
   "id": "c0286ae9",
   "metadata": {},
   "outputs": [],
   "source": [
    "##### Loading the Data:-\n",
    "df = pd.read_csv(\"smoking.csv\")\n",
    "df = df.drop(columns=[\"ID\",\"oral\"])\n",
    "df.head()"
   ]
  },
  {
   "cell_type": "code",
   "execution_count": null,
   "id": "9f921dfb",
   "metadata": {},
   "outputs": [],
   "source": [
    "df.shape"
   ]
  },
  {
   "cell_type": "code",
   "execution_count": null,
   "id": "72c44d49",
   "metadata": {},
   "outputs": [],
   "source": [
    "df.info()"
   ]
  },
  {
   "cell_type": "code",
   "execution_count": null,
   "id": "41879db2",
   "metadata": {},
   "outputs": [],
   "source": [
    "df.describe()"
   ]
  },
  {
   "cell_type": "code",
   "execution_count": null,
   "id": "b3a9591c",
   "metadata": {},
   "outputs": [],
   "source": [
    "##### Missing Values:-\n",
    "df.isnull().sum()"
   ]
  },
  {
   "cell_type": "code",
   "execution_count": null,
   "id": "536ea5bf",
   "metadata": {},
   "outputs": [],
   "source": [
    "##### Data Visualization:-\n",
    "sns.barplot(x=df[\"gender\"],y=df[\"smoking\"]\n",
    "plt.show()"
   ]
  },
  {
   "cell_type": "code",
   "execution_count": null,
   "id": "38151a29",
   "metadata": {},
   "outputs": [],
   "source": [
    "sns.countplot(df[\"gender\"],hue=df[\"smoking\"]"
   ]
  },
  {
   "cell_type": "code",
   "execution_count": null,
   "id": "3ecdf2e2",
   "metadata": {},
   "outputs": [],
   "source": [
    "plt.figure(figsize=(10,5))\n",
    "df[\"smoking\"].value_counts().plot.pie(autopct='%0.2f')"
   ]
  },
  {
   "cell_type": "code",
   "execution_count": null,
   "id": "1150f5d5",
   "metadata": {},
   "outputs": [],
   "source": [
    "plt.figure(figsize=(9,6))\n",
    "sns.histplot(x=df[\"age\"],hue=df[\"smoking\"])\n",
    "plt.show()"
   ]
  },
  {
   "cell_type": "code",
   "execution_count": null,
   "id": "9dce5e48",
   "metadata": {},
   "outputs": [],
   "source": [
    "for i in df.columns:\n",
    "    if(df[i].dtypes=='int64' or df[i],dtypes=='float64'):\n",
    "        sns.boxplot(df[i])\n",
    "        plt.show"
   ]
  },
  {
   "cell_type": "code",
   "execution_count": null,
   "id": "4520bb1f",
   "metadata": {},
   "outputs": [],
   "source": [
    "from sklearn.preprocessing import LabelEncoder\n",
    "le=LabelEncoder()\n",
    "df[\"gender\"]=le.fit_transform(df=[\"gender\"])\n",
    "df[\"tartar\"]=le.fit_transform(df[\"tartar\"])\n",
    "df[\"dental caries\"]=le.fit_transform(df[\"dental caries\"])"
   ]
  },
  {
   "cell_type": "code",
   "execution_count": null,
   "id": "bf0fc872",
   "metadata": {},
   "outputs": [],
   "source": [
    "##### Feature selection using feature importance:-\n",
    "x=df.iloc[:,:-1]\n",
    "y=df[\"smoking\"]\n",
    "from sklearn.ensemble import ExtraTreesClassifier\n",
    "model=ExtraTreesClassifier()\n",
    "model.fit(x,y)\n",
    "df1=pd.series(modei.feature_importances_,index=x.columns)\n",
    "plt.figure(figsize=(8,8))\n",
    "df1.nlargest(24).plot(kind='barh')\n",
    "plt.show"
   ]
  },
  {
   "cell_type": "code",
   "execution_count": null,
   "id": "f695d324",
   "metadata": {},
   "outputs": [],
   "source": [
    "##### Logistic Regression:-\n",
    "x=df.[[\"gender\",\"height(cm)\",\"Gtp\",\"hemoglobin\",\"triglyceride\",\"age\".\"weight(kg)\",\"waist(cm)\",\"HDL\",\"serum creatinine\",\"ALT\",\n",
    "      \"fasting blood sugar\",\"relaxation\",\"LDL\",\"systolic\"]]\n",
    "y=df.[\"smoking\"]\n",
    "from sklearn.model_selection import train_test_split\n",
    "x_train,x_test,y_train,y_test=train_test_split(x,y,test_size=0.2,random_state=42)\n",
    "from sklearn.preprocessing import StandardScaler\n",
    "sc=StandardScaler()\n",
    "x_train=sc.fit_transform(x_train)\n",
    "x_test=sc.fit_transform(x_test)\n",
    "from sklearn.linear_model import LogisticRegression\n",
    "lr=LogisticRegression()\n",
    "lr.fit(x_train,y_train)\n",
    "y_pred=lr.predict(x_test)\n",
    "from sklearn.metrics import accuracy_score,classification_report\n",
    "accuracy_score(y_test,y_pred)\n",
    "classification_report(y_test,y_pred)"
   ]
  },
  {
   "cell_type": "code",
   "execution_count": null,
   "id": "91c8145e",
   "metadata": {},
   "outputs": [],
   "source": [
    "##### Decision Tree:-\n",
    "from sklearn.tree import DecisionTreeClassifier\n",
    "dt=DecisionTreeClassifier()\n",
    "dt.fit(x_train,y_train)\n",
    "y_pred=dt.predict(x_test)\n",
    "print(classification_report(y_test,y_pred))"
   ]
  },
  {
   "cell_type": "code",
   "execution_count": null,
   "id": "103391fc",
   "metadata": {},
   "outputs": [],
   "source": [
    "##### Bagging Algorithm – Bagging Classifier:-\n",
    "from sklearn.ensemble import BaggingClassifier\n",
    "bagging_clf=BaggingClassifier(base_estimator=DecisionTreeClassifier(),n_estimators=1000)\n",
    "bagging_clf.fit(x_train,y_train).score(x_test,y_test)\n",
    "print(classification_report(y_test,y_pred))"
   ]
  },
  {
   "cell_type": "code",
   "execution_count": null,
   "id": "a9bf8af9",
   "metadata": {},
   "outputs": [],
   "source": [
    "##### Bagging Algorithm – Extra Trees:-\n",
    "from sklearn.ensemble import ExtraTreesClassifier\n",
    "et=ExtraTreesClassifier(n_estimators=1000,random_state=42)\n",
    "et.fit(x_train,y_train)\n",
    "y_pred=et.predict(x_test)\n",
    "print(classification_report(y_test,y_pred))"
   ]
  },
  {
   "cell_type": "code",
   "execution_count": null,
   "id": "5a5607df",
   "metadata": {},
   "outputs": [],
   "source": [
    "##### Bagging Algorithm – Random Forest:-\n",
    "from sklearn.ensemble import RandomForestClassifier\n",
    "rfc = RandomForestClassifier(n_estimators=1000)\n",
    "rfc.fit(x_train, y_train)\n",
    "y_pred=rfc.predict(x_test)\n",
    "print(classification_report(y_test,y_pred))"
   ]
  }
 ],
 "metadata": {
  "kernelspec": {
   "display_name": "Python 3 (ipykernel)",
   "language": "python",
   "name": "python3"
  },
  "language_info": {
   "codemirror_mode": {
    "name": "ipython",
    "version": 3
   },
   "file_extension": ".py",
   "mimetype": "text/x-python",
   "name": "python",
   "nbconvert_exporter": "python",
   "pygments_lexer": "ipython3",
   "version": "3.10.9"
  }
 },
 "nbformat": 4,
 "nbformat_minor": 5
}
